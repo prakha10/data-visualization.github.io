{
  "nbformat": 4,
  "nbformat_minor": 0,
  "metadata": {
    "colab": {
      "name": "Untitled24.ipynb",
      "provenance": [],
      "authorship_tag": "ABX9TyM80Gu8qaHOQHQcdeV1dubv",
      "include_colab_link": true
    },
    "kernelspec": {
      "name": "python3",
      "display_name": "Python 3"
    },
    "language_info": {
      "name": "python"
    }
  },
  "cells": [
    {
      "cell_type": "markdown",
      "metadata": {
        "id": "view-in-github",
        "colab_type": "text"
      },
      "source": [
        "<a href=\"https://colab.research.google.com/github/prakha10/data-visualization.github.io/blob/main/Untitled24.ipynb\" target=\"_parent\"><img src=\"https://colab.research.google.com/assets/colab-badge.svg\" alt=\"Open In Colab\"/></a>"
      ]
    },
    {
      "cell_type": "code",
      "execution_count": null,
      "metadata": {
        "id": "4pPfBH9hRRpN"
      },
      "outputs": [],
      "source": [
        ""
      ]
    },
    {
      "cell_type": "markdown",
      "source": [
        "lets see if we can highlight the graphical excellence.\n",
        "\n",
        "![john Snow](https://upload.wikimedia.org/wikipedia/commons/2/27/Snow-cholera-map-1.jpg)\n",
        "\n",
        "Gathered from [here](https://github.com/nurfnick/Data_Viz) on 3/21/2022."
      ],
      "metadata": {
        "id": "sWomKH8XRWfp"
      }
    },
    {
      "cell_type": "markdown",
      "source": [
        " The modern refrence  to the ohn snow  cholera out break.\n",
        " ![ outbreak](https://blog.rtwilson.com/wp-content/uploads/2012/01/OSColor_Points.png)\n",
        "  Got it From [Here](https://blog.rtwilson.com/john-snows-cholera-data-in-more-formats/)"
      ],
      "metadata": {
        "id": "ffb6gKs7R8k4"
      }
    },
    {
      "cell_type": "markdown",
      "source": [
        "# The modern one shows the population affected with cholera with dots. The bigger the dots the larger the  affected population."
      ],
      "metadata": {
        "id": "VUiSefawR9qo"
      }
    }
  ]
}