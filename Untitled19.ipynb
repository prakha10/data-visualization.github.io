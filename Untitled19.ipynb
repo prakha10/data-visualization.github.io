{
  "nbformat": 4,
  "nbformat_minor": 0,
  "metadata": {
    "colab": {
      "name": "Untitled19.ipynb",
      "provenance": [],
      "authorship_tag": "ABX9TyMhxMIqZNWuahF4CjGjD9zz",
      "include_colab_link": true
    },
    "kernelspec": {
      "name": "python3",
      "display_name": "Python 3"
    },
    "language_info": {
      "name": "python"
    }
  },
  "cells": [
    {
      "cell_type": "markdown",
      "metadata": {
        "id": "view-in-github",
        "colab_type": "text"
      },
      "source": [
        "<a href=\"https://colab.research.google.com/github/prakha10/data-visualization.github.io/blob/main/Untitled19.ipynb\" target=\"_parent\"><img src=\"https://colab.research.google.com/assets/colab-badge.svg\" alt=\"Open In Colab\"/></a>"
      ]
    },
    {
      "cell_type": "code",
      "execution_count": 37,
      "metadata": {
        "colab": {
          "base_uri": "https://localhost:8080/",
          "height": 270
        },
        "id": "ZO6JhHeXEPWH",
        "outputId": "b162f717-af46-4a0b-8930-9646aa843d6b"
      },
      "outputs": [
        {
          "output_type": "execute_result",
          "data": {
            "text/html": [
              "\n",
              "  <div id=\"df-1bcc45c2-e70f-4b35-ba42-de227c8c8afe\">\n",
              "    <div class=\"colab-df-container\">\n",
              "      <div>\n",
              "<style scoped>\n",
              "    .dataframe tbody tr th:only-of-type {\n",
              "        vertical-align: middle;\n",
              "    }\n",
              "\n",
              "    .dataframe tbody tr th {\n",
              "        vertical-align: top;\n",
              "    }\n",
              "\n",
              "    .dataframe thead th {\n",
              "        text-align: right;\n",
              "    }\n",
              "</style>\n",
              "<table border=\"1\" class=\"dataframe\">\n",
              "  <thead>\n",
              "    <tr style=\"text-align: right;\">\n",
              "      <th></th>\n",
              "      <th>0</th>\n",
              "      <th>1</th>\n",
              "      <th>2</th>\n",
              "      <th>3</th>\n",
              "      <th>4</th>\n",
              "      <th>5</th>\n",
              "      <th>6</th>\n",
              "      <th>7</th>\n",
              "      <th>8</th>\n",
              "      <th>9</th>\n",
              "    </tr>\n",
              "  </thead>\n",
              "  <tbody>\n",
              "    <tr>\n",
              "      <th>id</th>\n",
              "      <td>__export__.temp_log_196134_bd201015</td>\n",
              "      <td>__export__.temp_log_196131_7bca51bc</td>\n",
              "      <td>__export__.temp_log_196127_522915e3</td>\n",
              "      <td>__export__.temp_log_196128_be0919cf</td>\n",
              "      <td>__export__.temp_log_196126_d30b72fb</td>\n",
              "      <td>__export__.temp_log_196125_b0fa0b41</td>\n",
              "      <td>__export__.temp_log_196121_01544d45</td>\n",
              "      <td>__export__.temp_log_196122_f8b80a9f</td>\n",
              "      <td>__export__.temp_log_196111_6b7a0848</td>\n",
              "      <td>__export__.temp_log_196112_e134aebd</td>\n",
              "    </tr>\n",
              "    <tr>\n",
              "      <th>room_id/id</th>\n",
              "      <td>Room Admin</td>\n",
              "      <td>Room Admin</td>\n",
              "      <td>Room Admin</td>\n",
              "      <td>Room Admin</td>\n",
              "      <td>Room Admin</td>\n",
              "      <td>Room Admin</td>\n",
              "      <td>Room Admin</td>\n",
              "      <td>Room Admin</td>\n",
              "      <td>Room Admin</td>\n",
              "      <td>Room Admin</td>\n",
              "    </tr>\n",
              "    <tr>\n",
              "      <th>noted_date</th>\n",
              "      <td>08-12-2018 09:30</td>\n",
              "      <td>08-12-2018 09:30</td>\n",
              "      <td>08-12-2018 09:29</td>\n",
              "      <td>08-12-2018 09:29</td>\n",
              "      <td>08-12-2018 09:29</td>\n",
              "      <td>08-12-2018 09:29</td>\n",
              "      <td>08-12-2018 09:28</td>\n",
              "      <td>08-12-2018 09:28</td>\n",
              "      <td>08-12-2018 09:26</td>\n",
              "      <td>08-12-2018 09:26</td>\n",
              "    </tr>\n",
              "    <tr>\n",
              "      <th>temp</th>\n",
              "      <td>29</td>\n",
              "      <td>29</td>\n",
              "      <td>41</td>\n",
              "      <td>41</td>\n",
              "      <td>31</td>\n",
              "      <td>31</td>\n",
              "      <td>29</td>\n",
              "      <td>29</td>\n",
              "      <td>29</td>\n",
              "      <td>29</td>\n",
              "    </tr>\n",
              "    <tr>\n",
              "      <th>out/in</th>\n",
              "      <td>In</td>\n",
              "      <td>In</td>\n",
              "      <td>Out</td>\n",
              "      <td>Out</td>\n",
              "      <td>In</td>\n",
              "      <td>In</td>\n",
              "      <td>In</td>\n",
              "      <td>In</td>\n",
              "      <td>In</td>\n",
              "      <td>In</td>\n",
              "    </tr>\n",
              "  </tbody>\n",
              "</table>\n",
              "</div>\n",
              "      <button class=\"colab-df-convert\" onclick=\"convertToInteractive('df-1bcc45c2-e70f-4b35-ba42-de227c8c8afe')\"\n",
              "              title=\"Convert this dataframe to an interactive table.\"\n",
              "              style=\"display:none;\">\n",
              "        \n",
              "  <svg xmlns=\"http://www.w3.org/2000/svg\" height=\"24px\"viewBox=\"0 0 24 24\"\n",
              "       width=\"24px\">\n",
              "    <path d=\"M0 0h24v24H0V0z\" fill=\"none\"/>\n",
              "    <path d=\"M18.56 5.44l.94 2.06.94-2.06 2.06-.94-2.06-.94-.94-2.06-.94 2.06-2.06.94zm-11 1L8.5 8.5l.94-2.06 2.06-.94-2.06-.94L8.5 2.5l-.94 2.06-2.06.94zm10 10l.94 2.06.94-2.06 2.06-.94-2.06-.94-.94-2.06-.94 2.06-2.06.94z\"/><path d=\"M17.41 7.96l-1.37-1.37c-.4-.4-.92-.59-1.43-.59-.52 0-1.04.2-1.43.59L10.3 9.45l-7.72 7.72c-.78.78-.78 2.05 0 2.83L4 21.41c.39.39.9.59 1.41.59.51 0 1.02-.2 1.41-.59l7.78-7.78 2.81-2.81c.8-.78.8-2.07 0-2.86zM5.41 20L4 18.59l7.72-7.72 1.47 1.35L5.41 20z\"/>\n",
              "  </svg>\n",
              "      </button>\n",
              "      \n",
              "  <style>\n",
              "    .colab-df-container {\n",
              "      display:flex;\n",
              "      flex-wrap:wrap;\n",
              "      gap: 12px;\n",
              "    }\n",
              "\n",
              "    .colab-df-convert {\n",
              "      background-color: #E8F0FE;\n",
              "      border: none;\n",
              "      border-radius: 50%;\n",
              "      cursor: pointer;\n",
              "      display: none;\n",
              "      fill: #1967D2;\n",
              "      height: 32px;\n",
              "      padding: 0 0 0 0;\n",
              "      width: 32px;\n",
              "    }\n",
              "\n",
              "    .colab-df-convert:hover {\n",
              "      background-color: #E2EBFA;\n",
              "      box-shadow: 0px 1px 2px rgba(60, 64, 67, 0.3), 0px 1px 3px 1px rgba(60, 64, 67, 0.15);\n",
              "      fill: #174EA6;\n",
              "    }\n",
              "\n",
              "    [theme=dark] .colab-df-convert {\n",
              "      background-color: #3B4455;\n",
              "      fill: #D2E3FC;\n",
              "    }\n",
              "\n",
              "    [theme=dark] .colab-df-convert:hover {\n",
              "      background-color: #434B5C;\n",
              "      box-shadow: 0px 1px 3px 1px rgba(0, 0, 0, 0.15);\n",
              "      filter: drop-shadow(0px 1px 2px rgba(0, 0, 0, 0.3));\n",
              "      fill: #FFFFFF;\n",
              "    }\n",
              "  </style>\n",
              "\n",
              "      <script>\n",
              "        const buttonEl =\n",
              "          document.querySelector('#df-1bcc45c2-e70f-4b35-ba42-de227c8c8afe button.colab-df-convert');\n",
              "        buttonEl.style.display =\n",
              "          google.colab.kernel.accessAllowed ? 'block' : 'none';\n",
              "\n",
              "        async function convertToInteractive(key) {\n",
              "          const element = document.querySelector('#df-1bcc45c2-e70f-4b35-ba42-de227c8c8afe');\n",
              "          const dataTable =\n",
              "            await google.colab.kernel.invokeFunction('convertToInteractive',\n",
              "                                                     [key], {});\n",
              "          if (!dataTable) return;\n",
              "\n",
              "          const docLinkHtml = 'Like what you see? Visit the ' +\n",
              "            '<a target=\"_blank\" href=https://colab.research.google.com/notebooks/data_table.ipynb>data table notebook</a>'\n",
              "            + ' to learn more about interactive tables.';\n",
              "          element.innerHTML = '';\n",
              "          dataTable['output_type'] = 'display_data';\n",
              "          await google.colab.output.renderOutput(dataTable, element);\n",
              "          const docLink = document.createElement('div');\n",
              "          docLink.innerHTML = docLinkHtml;\n",
              "          element.appendChild(docLink);\n",
              "        }\n",
              "      </script>\n",
              "    </div>\n",
              "  </div>\n",
              "  "
            ],
            "text/plain": [
              "                                              0  ...                                    9\n",
              "id          __export__.temp_log_196134_bd201015  ...  __export__.temp_log_196112_e134aebd\n",
              "room_id/id                           Room Admin  ...                           Room Admin\n",
              "noted_date                     08-12-2018 09:30  ...                     08-12-2018 09:26\n",
              "temp                                         29  ...                                   29\n",
              "out/in                                       In  ...                                   In\n",
              "\n",
              "[5 rows x 10 columns]"
            ]
          },
          "metadata": {},
          "execution_count": 37
        }
      ],
      "source": [
        "import pandas as pa\n",
        "\n",
        "\n",
        "\n",
        "df = pa.read_csv('https://raw.githubusercontent.com/nurfnick/Data_Viz/main/IOT-temp.csv')\n",
        "\n",
        "df.head(10).T"
      ]
    },
    {
      "cell_type": "code",
      "source": [
        "df.dtypes"
      ],
      "metadata": {
        "colab": {
          "base_uri": "https://localhost:8080/"
        },
        "id": "Fbg4nRQ4VUej",
        "outputId": "a9475c97-9de8-422b-dbbd-5693ea3a651a"
      },
      "execution_count": 38,
      "outputs": [
        {
          "output_type": "execute_result",
          "data": {
            "text/plain": [
              "id            object\n",
              "room_id/id    object\n",
              "noted_date    object\n",
              "temp           int64\n",
              "out/in        object\n",
              "dtype: object"
            ]
          },
          "metadata": {},
          "execution_count": 38
        }
      ]
    },
    {
      "cell_type": "markdown",
      "source": [
        "#Converting the noted_date into DateTime, it is in day-month-Year Hour:Minute format."
      ],
      "metadata": {
        "id": "GZNHUeEdiqsp"
      }
    },
    {
      "cell_type": "code",
      "source": [
        "pa.to_datetime(df.noted_date)"
      ],
      "metadata": {
        "colab": {
          "base_uri": "https://localhost:8080/"
        },
        "id": "vqLgKY8Da99n",
        "outputId": "94ecd1e8-ad13-4479-e9fe-5a6fca671c51"
      },
      "execution_count": 54,
      "outputs": [
        {
          "output_type": "execute_result",
          "data": {
            "text/plain": [
              "0       2018-08-12 09:30:00\n",
              "1       2018-08-12 09:30:00\n",
              "2       2018-08-12 09:29:00\n",
              "3       2018-08-12 09:29:00\n",
              "4       2018-08-12 09:29:00\n",
              "                ...        \n",
              "97601   2018-07-28 07:07:00\n",
              "97602   2018-07-28 07:07:00\n",
              "97603   2018-07-28 07:06:00\n",
              "97604   2018-07-28 07:06:00\n",
              "97605   2018-07-28 07:06:00\n",
              "Name: noted_date, Length: 97606, dtype: datetime64[ns]"
            ]
          },
          "metadata": {},
          "execution_count": 54
        }
      ]
    },
    {
      "cell_type": "markdown",
      "source": [
        "# finding the minimum and maximum date and time."
      ],
      "metadata": {
        "id": "evGlvN30iqv9"
      }
    },
    {
      "cell_type": "code",
      "source": [
        "noted_date = df.noted_date\n",
        "noted_date.max()\n"
      ],
      "metadata": {
        "colab": {
          "base_uri": "https://localhost:8080/"
        },
        "id": "DW60ltucbeqq",
        "outputId": "1c319dbe-e71f-4b4a-9eff-38020b9143d0"
      },
      "execution_count": 68,
      "outputs": [
        {
          "output_type": "execute_result",
          "data": {
            "text/plain": [
              "Timestamp('2018-12-10 23:55:00')"
            ]
          },
          "metadata": {},
          "execution_count": 68
        }
      ]
    },
    {
      "cell_type": "code",
      "source": [
        "noted_date.min()"
      ],
      "metadata": {
        "colab": {
          "base_uri": "https://localhost:8080/"
        },
        "id": "7FOq8o8Zc5JK",
        "outputId": "ea79a5c2-71a0-442f-a5af-5a9d27aff8bb"
      },
      "execution_count": 67,
      "outputs": [
        {
          "output_type": "execute_result",
          "data": {
            "text/plain": [
              "Timestamp('2018-01-11 00:06:00')"
            ]
          },
          "metadata": {},
          "execution_count": 67
        }
      ]
    },
    {
      "cell_type": "markdown",
      "source": [
        "#The largest interval inbetween temperature checks"
      ],
      "metadata": {
        "id": "qVKBUa2ri4us"
      }
    },
    {
      "cell_type": "code",
      "source": [
        " df.temp.describe()"
      ],
      "metadata": {
        "colab": {
          "base_uri": "https://localhost:8080/"
        },
        "id": "Z0Fp0VAvdDDq",
        "outputId": "6fdc1607-c629-4c58-e070-916c81594f81"
      },
      "execution_count": 70,
      "outputs": [
        {
          "output_type": "execute_result",
          "data": {
            "text/plain": [
              "count    97606.000000\n",
              "mean        35.053931\n",
              "std          5.699825\n",
              "min         21.000000\n",
              "25%         30.000000\n",
              "50%         35.000000\n",
              "75%         40.000000\n",
              "max         51.000000\n",
              "Name: temp, dtype: float64"
            ]
          },
          "metadata": {},
          "execution_count": 70
        }
      ]
    },
    {
      "cell_type": "code",
      "source": [
        "largest_inter = (df.temp.max() - df.temp.min())\n",
        "largest_inter"
      ],
      "metadata": {
        "colab": {
          "base_uri": "https://localhost:8080/"
        },
        "id": "BLrcg6ccd1Th",
        "outputId": "aff5c73d-f5c6-4d9d-c308-9bf7fdc7efd9"
      },
      "execution_count": 76,
      "outputs": [
        {
          "output_type": "execute_result",
          "data": {
            "text/plain": [
              "30"
            ]
          },
          "metadata": {},
          "execution_count": 76
        }
      ]
    },
    {
      "cell_type": "markdown",
      "source": [
        "# finding the average datetime."
      ],
      "metadata": {
        "id": "XY_6m14ti-Nb"
      }
    },
    {
      "cell_type": "code",
      "source": [
        "df.noted_date.mean()"
      ],
      "metadata": {
        "colab": {
          "base_uri": "https://localhost:8080/"
        },
        "id": "0az0hZM1d1ld",
        "outputId": "207dcdc9-f60f-498b-bdac-7fceb73a1592"
      },
      "execution_count": 78,
      "outputs": [
        {
          "output_type": "execute_result",
          "data": {
            "text/plain": [
              "Timestamp('2018-09-18 23:04:02.697989888')"
            ]
          },
          "metadata": {},
          "execution_count": 78
        }
      ]
    },
    {
      "cell_type": "markdown",
      "source": [
        "# finding the average outside temperature on '09-11-2018."
      ],
      "metadata": {
        "id": "7ixoriuJjIBD"
      }
    },
    {
      "cell_type": "code",
      "source": [
        "\n",
        "pa.bdate_range(start='09-11-2018', end='09-11-2018')"
      ],
      "metadata": {
        "colab": {
          "base_uri": "https://localhost:8080/"
        },
        "id": "lb8YDvsxff20",
        "outputId": "133531cf-387b-412b-c904-055ca25784ec"
      },
      "execution_count": 83,
      "outputs": [
        {
          "output_type": "execute_result",
          "data": {
            "text/plain": [
              "DatetimeIndex(['2018-09-11'], dtype='datetime64[ns]', freq='B')"
            ]
          },
          "metadata": {},
          "execution_count": 83
        }
      ]
    }
  ]
}